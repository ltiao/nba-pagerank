{
 "cells": [
  {
   "cell_type": "code",
   "execution_count": 1,
   "metadata": {
    "collapsed": true
   },
   "outputs": [],
   "source": [
    "%matplotlib inline"
   ]
  },
  {
   "cell_type": "code",
   "execution_count": 2,
   "metadata": {
    "collapsed": true
   },
   "outputs": [],
   "source": [
    "import matplotlib.pyplot as plt\n",
    "import networkx as nx\n",
    "import pandas as pd\n",
    "import numpy as np\n",
    "import requests"
   ]
  },
  {
   "cell_type": "code",
   "execution_count": 3,
   "metadata": {
    "collapsed": true
   },
   "outputs": [],
   "source": [
    "from fake_useragent import UserAgent"
   ]
  },
  {
   "cell_type": "code",
   "execution_count": 4,
   "metadata": {
    "collapsed": true
   },
   "outputs": [],
   "source": [
    "def pivot_dict(lst, key):\n",
    "    return {d.pop(key): d for d in lst}"
   ]
  },
  {
   "cell_type": "code",
   "execution_count": 5,
   "metadata": {
    "collapsed": true
   },
   "outputs": [],
   "source": [
    "agent = UserAgent()"
   ]
  },
  {
   "cell_type": "code",
   "execution_count": 6,
   "metadata": {
    "collapsed": true
   },
   "outputs": [],
   "source": [
    "headers = {\n",
    "    'User-Agent': agent.google\n",
    "}"
   ]
  },
  {
   "cell_type": "code",
   "execution_count": 7,
   "metadata": {
    "collapsed": true
   },
   "outputs": [],
   "source": [
    "params = {\n",
    "    \"LeagueID\": \"00\",\n",
    "    \"PlayerOrTeam\": \"T\",\n",
    "    \"Season\": \"2015-16\",\n",
    "    \"SeasonType\": \"Regular Season\",\n",
    "    \"Sorter\": \"DATE\",\n",
    "    \"Direction\": \"ASC\"\n",
    "}"
   ]
  },
  {
   "cell_type": "code",
   "execution_count": 8,
   "metadata": {
    "collapsed": false
   },
   "outputs": [],
   "source": [
    "r = requests.get(url='http://stats.nba.com/stats/leaguegamelog',\n",
    "                 headers=headers,\n",
    "                 params=params)"
   ]
  },
  {
   "cell_type": "code",
   "execution_count": 9,
   "metadata": {
    "collapsed": true
   },
   "outputs": [],
   "source": [
    "result_sets = pivot_dict(r.json().get('resultSets'), key='name')"
   ]
  },
  {
   "cell_type": "code",
   "execution_count": 10,
   "metadata": {
    "collapsed": false
   },
   "outputs": [],
   "source": [
    "df = pd.DataFrame.from_records(data=result_sets['LeagueGameLog']['rowSet'],\n",
    "                               columns=result_sets['LeagueGameLog']['headers'])"
   ]
  },
  {
   "cell_type": "code",
   "execution_count": 11,
   "metadata": {
    "collapsed": false
   },
   "outputs": [
    {
     "data": {
      "text/html": [
       "<div>\n",
       "<table border=\"1\" class=\"dataframe\">\n",
       "  <thead>\n",
       "    <tr style=\"text-align: right;\">\n",
       "      <th></th>\n",
       "      <th>SEASON_ID</th>\n",
       "      <th>TEAM_ID</th>\n",
       "      <th>TEAM_ABBREVIATION</th>\n",
       "      <th>TEAM_NAME</th>\n",
       "      <th>GAME_ID</th>\n",
       "      <th>GAME_DATE</th>\n",
       "      <th>MATCHUP</th>\n",
       "      <th>WL</th>\n",
       "      <th>MIN</th>\n",
       "      <th>FGM</th>\n",
       "      <th>...</th>\n",
       "      <th>DREB</th>\n",
       "      <th>REB</th>\n",
       "      <th>AST</th>\n",
       "      <th>STL</th>\n",
       "      <th>BLK</th>\n",
       "      <th>TOV</th>\n",
       "      <th>PF</th>\n",
       "      <th>PTS</th>\n",
       "      <th>PLUS_MINUS</th>\n",
       "      <th>VIDEO_AVAILABLE</th>\n",
       "    </tr>\n",
       "  </thead>\n",
       "  <tbody>\n",
       "    <tr>\n",
       "      <th>0</th>\n",
       "      <td>22015</td>\n",
       "      <td>1610612737</td>\n",
       "      <td>ATL</td>\n",
       "      <td>Atlanta Hawks</td>\n",
       "      <td>0021500001</td>\n",
       "      <td>2015-10-27</td>\n",
       "      <td>ATL vs. DET</td>\n",
       "      <td>L</td>\n",
       "      <td>240</td>\n",
       "      <td>37</td>\n",
       "      <td>...</td>\n",
       "      <td>33</td>\n",
       "      <td>40</td>\n",
       "      <td>22</td>\n",
       "      <td>9</td>\n",
       "      <td>4</td>\n",
       "      <td>15</td>\n",
       "      <td>25</td>\n",
       "      <td>94</td>\n",
       "      <td>-12</td>\n",
       "      <td>1</td>\n",
       "    </tr>\n",
       "    <tr>\n",
       "      <th>1</th>\n",
       "      <td>22015</td>\n",
       "      <td>1610612765</td>\n",
       "      <td>DET</td>\n",
       "      <td>Detroit Pistons</td>\n",
       "      <td>0021500001</td>\n",
       "      <td>2015-10-27</td>\n",
       "      <td>DET @ ATL</td>\n",
       "      <td>W</td>\n",
       "      <td>240</td>\n",
       "      <td>37</td>\n",
       "      <td>...</td>\n",
       "      <td>36</td>\n",
       "      <td>59</td>\n",
       "      <td>23</td>\n",
       "      <td>5</td>\n",
       "      <td>3</td>\n",
       "      <td>15</td>\n",
       "      <td>15</td>\n",
       "      <td>106</td>\n",
       "      <td>12</td>\n",
       "      <td>1</td>\n",
       "    </tr>\n",
       "    <tr>\n",
       "      <th>2</th>\n",
       "      <td>22015</td>\n",
       "      <td>1610612739</td>\n",
       "      <td>CLE</td>\n",
       "      <td>Cleveland Cavaliers</td>\n",
       "      <td>0021500002</td>\n",
       "      <td>2015-10-27</td>\n",
       "      <td>CLE @ CHI</td>\n",
       "      <td>L</td>\n",
       "      <td>240</td>\n",
       "      <td>38</td>\n",
       "      <td>...</td>\n",
       "      <td>39</td>\n",
       "      <td>50</td>\n",
       "      <td>26</td>\n",
       "      <td>5</td>\n",
       "      <td>7</td>\n",
       "      <td>11</td>\n",
       "      <td>21</td>\n",
       "      <td>95</td>\n",
       "      <td>-2</td>\n",
       "      <td>1</td>\n",
       "    </tr>\n",
       "    <tr>\n",
       "      <th>3</th>\n",
       "      <td>22015</td>\n",
       "      <td>1610612741</td>\n",
       "      <td>CHI</td>\n",
       "      <td>Chicago Bulls</td>\n",
       "      <td>0021500002</td>\n",
       "      <td>2015-10-27</td>\n",
       "      <td>CHI vs. CLE</td>\n",
       "      <td>W</td>\n",
       "      <td>240</td>\n",
       "      <td>37</td>\n",
       "      <td>...</td>\n",
       "      <td>40</td>\n",
       "      <td>47</td>\n",
       "      <td>13</td>\n",
       "      <td>6</td>\n",
       "      <td>10</td>\n",
       "      <td>13</td>\n",
       "      <td>22</td>\n",
       "      <td>97</td>\n",
       "      <td>2</td>\n",
       "      <td>1</td>\n",
       "    </tr>\n",
       "    <tr>\n",
       "      <th>4</th>\n",
       "      <td>22015</td>\n",
       "      <td>1610612740</td>\n",
       "      <td>NOP</td>\n",
       "      <td>New Orleans Pelicans</td>\n",
       "      <td>0021500003</td>\n",
       "      <td>2015-10-27</td>\n",
       "      <td>NOP @ GSW</td>\n",
       "      <td>L</td>\n",
       "      <td>240</td>\n",
       "      <td>35</td>\n",
       "      <td>...</td>\n",
       "      <td>25</td>\n",
       "      <td>33</td>\n",
       "      <td>21</td>\n",
       "      <td>9</td>\n",
       "      <td>3</td>\n",
       "      <td>19</td>\n",
       "      <td>26</td>\n",
       "      <td>95</td>\n",
       "      <td>-16</td>\n",
       "      <td>1</td>\n",
       "    </tr>\n",
       "  </tbody>\n",
       "</table>\n",
       "<p>5 rows × 29 columns</p>\n",
       "</div>"
      ],
      "text/plain": [
       "  SEASON_ID     TEAM_ID TEAM_ABBREVIATION             TEAM_NAME     GAME_ID  \\\n",
       "0     22015  1610612737               ATL         Atlanta Hawks  0021500001   \n",
       "1     22015  1610612765               DET       Detroit Pistons  0021500001   \n",
       "2     22015  1610612739               CLE   Cleveland Cavaliers  0021500002   \n",
       "3     22015  1610612741               CHI         Chicago Bulls  0021500002   \n",
       "4     22015  1610612740               NOP  New Orleans Pelicans  0021500003   \n",
       "\n",
       "    GAME_DATE      MATCHUP WL  MIN  FGM       ...         DREB  REB  AST  STL  \\\n",
       "0  2015-10-27  ATL vs. DET  L  240   37       ...           33   40   22    9   \n",
       "1  2015-10-27    DET @ ATL  W  240   37       ...           36   59   23    5   \n",
       "2  2015-10-27    CLE @ CHI  L  240   38       ...           39   50   26    5   \n",
       "3  2015-10-27  CHI vs. CLE  W  240   37       ...           40   47   13    6   \n",
       "4  2015-10-27    NOP @ GSW  L  240   35       ...           25   33   21    9   \n",
       "\n",
       "   BLK  TOV  PF  PTS  PLUS_MINUS  VIDEO_AVAILABLE  \n",
       "0    4   15  25   94         -12                1  \n",
       "1    3   15  15  106          12                1  \n",
       "2    7   11  21   95          -2                1  \n",
       "3   10   13  22   97           2                1  \n",
       "4    3   19  26   95         -16                1  \n",
       "\n",
       "[5 rows x 29 columns]"
      ]
     },
     "execution_count": 11,
     "metadata": {},
     "output_type": "execute_result"
    }
   ],
   "source": [
    "df.head()"
   ]
  },
  {
   "cell_type": "code",
   "execution_count": 12,
   "metadata": {
    "collapsed": false
   },
   "outputs": [
    {
     "data": {
      "text/plain": [
       "Index(['SEASON_ID', 'TEAM_ID', 'TEAM_ABBREVIATION', 'TEAM_NAME', 'GAME_ID',\n",
       "       'GAME_DATE', 'MATCHUP', 'WL', 'MIN', 'FGM', 'FGA', 'FG_PCT', 'FG3M',\n",
       "       'FG3A', 'FG3_PCT', 'FTM', 'FTA', 'FT_PCT', 'OREB', 'DREB', 'REB', 'AST',\n",
       "       'STL', 'BLK', 'TOV', 'PF', 'PTS', 'PLUS_MINUS', 'VIDEO_AVAILABLE'],\n",
       "      dtype='object')"
      ]
     },
     "execution_count": 12,
     "metadata": {},
     "output_type": "execute_result"
    }
   ],
   "source": [
    "df.columns"
   ]
  },
  {
   "cell_type": "code",
   "execution_count": 13,
   "metadata": {
    "collapsed": false,
    "scrolled": true
   },
   "outputs": [],
   "source": [
    "pivot_table = df.pivot_table(index='GAME_ID', \n",
    "                             columns='WL', \n",
    "                             values='TEAM_ABBREVIATION', \n",
    "                             aggfunc=lambda s: s.iloc[0])"
   ]
  },
  {
   "cell_type": "code",
   "execution_count": 14,
   "metadata": {
    "collapsed": false
   },
   "outputs": [
    {
     "data": {
      "text/html": [
       "<div>\n",
       "<table border=\"1\" class=\"dataframe\">\n",
       "  <thead>\n",
       "    <tr style=\"text-align: right;\">\n",
       "      <th>WL</th>\n",
       "      <th>L</th>\n",
       "      <th>W</th>\n",
       "    </tr>\n",
       "    <tr>\n",
       "      <th>GAME_ID</th>\n",
       "      <th></th>\n",
       "      <th></th>\n",
       "    </tr>\n",
       "  </thead>\n",
       "  <tbody>\n",
       "    <tr>\n",
       "      <th>0021500001</th>\n",
       "      <td>ATL</td>\n",
       "      <td>DET</td>\n",
       "    </tr>\n",
       "    <tr>\n",
       "      <th>0021500002</th>\n",
       "      <td>CLE</td>\n",
       "      <td>CHI</td>\n",
       "    </tr>\n",
       "    <tr>\n",
       "      <th>0021500003</th>\n",
       "      <td>NOP</td>\n",
       "      <td>GSW</td>\n",
       "    </tr>\n",
       "    <tr>\n",
       "      <th>0021500004</th>\n",
       "      <td>ORL</td>\n",
       "      <td>WAS</td>\n",
       "    </tr>\n",
       "    <tr>\n",
       "      <th>0021500005</th>\n",
       "      <td>PHI</td>\n",
       "      <td>BOS</td>\n",
       "    </tr>\n",
       "  </tbody>\n",
       "</table>\n",
       "</div>"
      ],
      "text/plain": [
       "WL            L    W\n",
       "GAME_ID             \n",
       "0021500001  ATL  DET\n",
       "0021500002  CLE  CHI\n",
       "0021500003  NOP  GSW\n",
       "0021500004  ORL  WAS\n",
       "0021500005  PHI  BOS"
      ]
     },
     "execution_count": 14,
     "metadata": {},
     "output_type": "execute_result"
    }
   ],
   "source": [
    "pivot_table.head()"
   ]
  },
  {
   "cell_type": "code",
   "execution_count": 15,
   "metadata": {
    "collapsed": false
   },
   "outputs": [],
   "source": [
    "G = nx.from_pandas_dataframe(df=pivot_table,\n",
    "                             source='L',\n",
    "                             target='W',\n",
    "                             edge_attr=True,\n",
    "                             create_using=nx.MultiDiGraph())"
   ]
  },
  {
   "cell_type": "code",
   "execution_count": 16,
   "metadata": {
    "collapsed": false
   },
   "outputs": [
    {
     "data": {
      "text/plain": [
       "['GSW', 'LAL', 'NOP', 'CHA', 'SAS']"
      ]
     },
     "execution_count": 16,
     "metadata": {},
     "output_type": "execute_result"
    }
   ],
   "source": [
    "list(G.nodes())[:5]"
   ]
  },
  {
   "cell_type": "code",
   "execution_count": 17,
   "metadata": {
    "collapsed": false
   },
   "outputs": [
    {
     "data": {
      "text/plain": [
       "{}"
      ]
     },
     "execution_count": 17,
     "metadata": {},
     "output_type": "execute_result"
    }
   ],
   "source": [
    "G.node['GSW']"
   ]
  },
  {
   "cell_type": "code",
   "execution_count": 18,
   "metadata": {
    "collapsed": false,
    "scrolled": true
   },
   "outputs": [
    {
     "data": {
      "text/plain": [
       "{'BOS': {0: {}},\n",
       " 'DAL': {0: {}},\n",
       " 'DEN': {0: {}},\n",
       " 'DET': {0: {}},\n",
       " 'LAL': {0: {}},\n",
       " 'MIL': {0: {}},\n",
       " 'MIN': {0: {}},\n",
       " 'POR': {0: {}},\n",
       " 'SAS': {0: {}}}"
      ]
     },
     "execution_count": 18,
     "metadata": {},
     "output_type": "execute_result"
    }
   ],
   "source": [
    "G['GSW']"
   ]
  },
  {
   "cell_type": "code",
   "execution_count": 19,
   "metadata": {
    "collapsed": false
   },
   "outputs": [
    {
     "data": {
      "text/plain": [
       "{'ATL': {0: {}, 1: {}, 2: {}},\n",
       " 'BKN': {0: {}, 1: {}},\n",
       " 'BOS': {0: {}, 1: {}, 2: {}, 3: {}},\n",
       " 'CHA': {0: {}, 1: {}, 2: {}, 3: {}},\n",
       " 'CHI': {0: {}, 1: {}, 2: {}, 3: {}},\n",
       " 'CLE': {0: {}, 1: {}, 2: {}, 3: {}},\n",
       " 'DAL': {0: {}, 1: {}},\n",
       " 'DEN': {0: {}, 1: {}},\n",
       " 'DET': {0: {}, 1: {}, 2: {}, 3: {}},\n",
       " 'GSW': {0: {}, 1: {}},\n",
       " 'HOU': {0: {}, 1: {}},\n",
       " 'IND': {0: {}, 1: {}, 2: {}},\n",
       " 'LAC': {0: {}, 1: {}},\n",
       " 'LAL': {0: {}},\n",
       " 'MEM': {0: {}, 1: {}},\n",
       " 'MIA': {0: {}, 1: {}, 2: {}},\n",
       " 'MIL': {0: {}, 1: {}, 2: {}},\n",
       " 'MIN': {0: {}},\n",
       " 'NOP': {0: {}},\n",
       " 'NYK': {0: {}, 1: {}, 2: {}, 3: {}},\n",
       " 'OKC': {0: {}, 1: {}},\n",
       " 'ORL': {0: {}, 1: {}, 2: {}},\n",
       " 'POR': {0: {}},\n",
       " 'SAC': {0: {}},\n",
       " 'SAS': {0: {}, 1: {}},\n",
       " 'TOR': {0: {}, 1: {}, 2: {}, 3: {}},\n",
       " 'UTA': {0: {}, 1: {}},\n",
       " 'WAS': {0: {}, 1: {}, 2: {}, 3: {}}}"
      ]
     },
     "execution_count": 19,
     "metadata": {},
     "output_type": "execute_result"
    }
   ],
   "source": [
    "G['PHI']"
   ]
  },
  {
   "cell_type": "code",
   "execution_count": 20,
   "metadata": {
    "collapsed": false
   },
   "outputs": [
    {
     "data": {
      "text/plain": [
       "{0: {}, 1: {}}"
      ]
     },
     "execution_count": 20,
     "metadata": {},
     "output_type": "execute_result"
    }
   ],
   "source": [
    "G['PHI']['GSW']"
   ]
  },
  {
   "cell_type": "code",
   "execution_count": 21,
   "metadata": {
    "collapsed": false,
    "scrolled": true
   },
   "outputs": [
    {
     "data": {
      "text/plain": [
       "73"
      ]
     },
     "execution_count": 21,
     "metadata": {},
     "output_type": "execute_result"
    }
   ],
   "source": [
    "G.in_degree('GSW')"
   ]
  },
  {
   "cell_type": "code",
   "execution_count": 22,
   "metadata": {
    "collapsed": false,
    "scrolled": true
   },
   "outputs": [
    {
     "data": {
      "text/plain": [
       "9"
      ]
     },
     "execution_count": 22,
     "metadata": {},
     "output_type": "execute_result"
    }
   ],
   "source": [
    "G.out_degree('GSW')"
   ]
  },
  {
   "cell_type": "code",
   "execution_count": 23,
   "metadata": {
    "collapsed": false
   },
   "outputs": [
    {
     "data": {
      "text/plain": [
       "[{'name': 'GSW'},\n",
       " {'name': 'LAL'},\n",
       " {'name': 'NOP'},\n",
       " {'name': 'CHA'},\n",
       " {'name': 'SAS'},\n",
       " {'name': 'POR'},\n",
       " {'name': 'PHI'},\n",
       " {'name': 'MIN'},\n",
       " {'name': 'BKN'},\n",
       " {'name': 'MIA'},\n",
       " {'name': 'UTA'},\n",
       " {'name': 'ORL'},\n",
       " {'name': 'MEM'},\n",
       " {'name': 'SAC'},\n",
       " {'name': 'CLE'},\n",
       " {'name': 'OKC'},\n",
       " {'name': 'HOU'},\n",
       " {'name': 'TOR'},\n",
       " {'name': 'NYK'},\n",
       " {'name': 'DET'},\n",
       " {'name': 'IND'},\n",
       " {'name': 'MIL'},\n",
       " {'name': 'LAC'},\n",
       " {'name': 'DEN'},\n",
       " {'name': 'ATL'},\n",
       " {'name': 'WAS'},\n",
       " {'name': 'BOS'},\n",
       " {'name': 'DAL'},\n",
       " {'name': 'PHX'},\n",
       " {'name': 'CHI'}]"
      ]
     },
     "execution_count": 23,
     "metadata": {},
     "output_type": "execute_result"
    }
   ],
   "source": [
    "nx.readwrite.node_link_data(G).get('nodes')"
   ]
  },
  {
   "cell_type": "code",
   "execution_count": 24,
   "metadata": {
    "collapsed": false
   },
   "outputs": [
    {
     "data": {
      "text/plain": [
       "[{'abbr': 'GSW'},\n",
       " {'abbr': 'LAL'},\n",
       " {'abbr': 'NOP'},\n",
       " {'abbr': 'CHA'},\n",
       " {'abbr': 'SAS'},\n",
       " {'abbr': 'POR'},\n",
       " {'abbr': 'PHI'},\n",
       " {'abbr': 'MIN'},\n",
       " {'abbr': 'BKN'},\n",
       " {'abbr': 'MIA'},\n",
       " {'abbr': 'UTA'},\n",
       " {'abbr': 'ORL'},\n",
       " {'abbr': 'MEM'},\n",
       " {'abbr': 'SAC'},\n",
       " {'abbr': 'CLE'},\n",
       " {'abbr': 'OKC'},\n",
       " {'abbr': 'HOU'},\n",
       " {'abbr': 'TOR'},\n",
       " {'abbr': 'NYK'},\n",
       " {'abbr': 'DET'},\n",
       " {'abbr': 'IND'},\n",
       " {'abbr': 'MIL'},\n",
       " {'abbr': 'LAC'},\n",
       " {'abbr': 'DEN'},\n",
       " {'abbr': 'ATL'},\n",
       " {'abbr': 'WAS'},\n",
       " {'abbr': 'BOS'},\n",
       " {'abbr': 'DAL'},\n",
       " {'abbr': 'PHX'},\n",
       " {'abbr': 'CHI'}]"
      ]
     },
     "execution_count": 24,
     "metadata": {},
     "output_type": "execute_result"
    }
   ],
   "source": [
    "nx.readwrite.node_link_data(G, attrs=dict(name='abbr')).get('nodes')"
   ]
  },
  {
   "cell_type": "code",
   "execution_count": 25,
   "metadata": {
    "collapsed": false
   },
   "outputs": [
    {
     "data": {
      "text/plain": [
       "{'ATL': 0.03696159371545701,\n",
       " 'BKN': 0.019367015159107513,\n",
       " 'BOS': 0.04006195924721035,\n",
       " 'CHA': 0.0353407051784611,\n",
       " 'CHI': 0.03784445175248295,\n",
       " 'CLE': 0.04306832673371957,\n",
       " 'DAL': 0.03320400668185945,\n",
       " 'DEN': 0.03334150280022405,\n",
       " 'DET': 0.039288150304441036,\n",
       " 'GSW': 0.06244845847313677,\n",
       " 'HOU': 0.03423497160160184,\n",
       " 'IND': 0.035596949702101935,\n",
       " 'LAC': 0.03823280294329821,\n",
       " 'LAL': 0.01932007738125768,\n",
       " 'MEM': 0.029622485096883013,\n",
       " 'MIA': 0.03579634652935044,\n",
       " 'MIL': 0.029525573248720415,\n",
       " 'MIN': 0.028457863450031082,\n",
       " 'NOP': 0.025638941817889636,\n",
       " 'NYK': 0.02424127212375859,\n",
       " 'OKC': 0.04304775975656438,\n",
       " 'ORL': 0.025406089146804915,\n",
       " 'PHI': 0.008985633236028159,\n",
       " 'PHX': 0.019967579936933027,\n",
       " 'POR': 0.03710784103294628,\n",
       " 'SAC': 0.026108301714839514,\n",
       " 'SAS': 0.053017629215931804,\n",
       " 'TOR': 0.044300209909058766,\n",
       " 'UTA': 0.0288474303673206,\n",
       " 'WAS': 0.031618071742580044}"
      ]
     },
     "execution_count": 25,
     "metadata": {},
     "output_type": "execute_result"
    }
   ],
   "source": [
    "nx.pagerank_numpy(G)"
   ]
  },
  {
   "cell_type": "code",
   "execution_count": 26,
   "metadata": {
    "collapsed": true
   },
   "outputs": [],
   "source": [
    "nx.set_node_attributes(G, 'pagerank', nx.pagerank_numpy(G))"
   ]
  },
  {
   "cell_type": "code",
   "execution_count": 27,
   "metadata": {
    "collapsed": false
   },
   "outputs": [
    {
     "data": {
      "text/plain": [
       "{'pagerank': 0.06244845847313677}"
      ]
     },
     "execution_count": 27,
     "metadata": {},
     "output_type": "execute_result"
    }
   ],
   "source": [
    "G.node['GSW']"
   ]
  },
  {
   "cell_type": "code",
   "execution_count": 28,
   "metadata": {
    "collapsed": false
   },
   "outputs": [],
   "source": [
    "node_size = np.asarray(list(nx.get_node_attributes(G, 'pagerank').values()))"
   ]
  },
  {
   "cell_type": "code",
   "execution_count": 29,
   "metadata": {
    "collapsed": false
   },
   "outputs": [
    {
     "data": {
      "image/png": "[encoded data removed]",
      "text/plain": [
       "<matplotlib.figure.Figure at 0x10e7e9048>"
      ]
     },
     "metadata": {},
     "output_type": "display_data"
    }
   ],
   "source": [
    "fig, ax = plt.subplots(figsize=(15, 10))\n",
    "nx.draw(G, ax=ax, with_labels=True, node_size=300*100*node_size)"
   ]
  },
  {
   "cell_type": "code",
   "execution_count": 30,
   "metadata": {
    "collapsed": false
   },
   "outputs": [
    {
     "data": {
      "text/plain": [
       "True"
      ]
     },
     "execution_count": 30,
     "metadata": {},
     "output_type": "execute_result"
    }
   ],
   "source": [
    "np.allclose(np.asarray(list(nx.pagerank_numpy(G).values())), \n",
    "            np.asarray(list(nx.pagerank_scipy(G).values())), atol=1e-6)"
   ]
  },
  {
   "cell_type": "code",
   "execution_count": 31,
   "metadata": {
    "collapsed": false
   },
   "outputs": [
    {
     "data": {
      "text/plain": [
       "matrix([[ 0.005     ,  0.09944444,  0.005     ,  0.005     ,  0.09944444,\n",
       "          0.09944444,  0.005     ,  0.09944444,  0.005     ,  0.005     ,\n",
       "          0.005     ,  0.005     ,  0.005     ,  0.005     ,  0.005     ,\n",
       "          0.005     ,  0.005     ,  0.005     ,  0.005     ,  0.09944444,\n",
       "          0.005     ,  0.09944444,  0.005     ,  0.09944444,  0.005     ,\n",
       "          0.005     ,  0.09944444,  0.09944444,  0.005     ,  0.005     ],\n",
       "        [ 0.04423077,  0.005     ,  0.01807692,  0.03115385,  0.05730769,\n",
       "          0.04423077,  0.01807692,  0.03115385,  0.005     ,  0.01807692,\n",
       "          0.04423077,  0.01807692,  0.04423077,  0.05730769,  0.03115385,\n",
       "          0.05730769,  0.05730769,  0.03115385,  0.03115385,  0.01807692,\n",
       "          0.03115385,  0.01807692,  0.05730769,  0.04423077,  0.03115385,\n",
       "          0.01807692,  0.01807692,  0.04423077,  0.04423077,  0.03115385],\n",
       "        [ 0.05403846,  0.03769231,  0.005     ,  0.02134615,  0.05403846,\n",
       "          0.05403846,  0.02134615,  0.03769231,  0.005     ,  0.03769231,\n",
       "          0.03769231,  0.03769231,  0.07038462,  0.005     ,  0.02134615,\n",
       "          0.03769231,  0.05403846,  0.03769231,  0.02134615,  0.005     ,\n",
       "          0.03769231,  0.02134615,  0.05403846,  0.02134615,  0.03769231,\n",
       "          0.02134615,  0.03769231,  0.03769231,  0.03769231,  0.03769231],\n",
       "        [ 0.055     ,  0.005     ,  0.03      ,  0.005     ,  0.03      ,\n",
       "          0.03      ,  0.005     ,  0.005     ,  0.005     ,  0.055     ,\n",
       "          0.03      ,  0.03      ,  0.005     ,  0.005     ,  0.08      ,\n",
       "          0.055     ,  0.03      ,  0.055     ,  0.03      ,  0.03      ,\n",
       "          0.005     ,  0.03      ,  0.055     ,  0.055     ,  0.08      ,\n",
       "          0.055     ,  0.055     ,  0.03      ,  0.03      ,  0.03      ],\n",
       "        [ 0.175     ,  0.005     ,  0.06166667,  0.06166667,  0.005     ,\n",
       "          0.005     ,  0.005     ,  0.005     ,  0.005     ,  0.005     ,\n",
       "          0.005     ,  0.005     ,  0.005     ,  0.005     ,  0.06166667,\n",
       "          0.11833333,  0.06166667,  0.06166667,  0.005     ,  0.005     ,\n",
       "          0.06166667,  0.005     ,  0.06166667,  0.06166667,  0.005     ,\n",
       "          0.06166667,  0.005     ,  0.005     ,  0.005     ,  0.06166667],\n",
       "        [ 0.07210526,  0.005     ,  0.02736842,  0.02736842,  0.07210526,\n",
       "          0.005     ,  0.02736842,  0.02736842,  0.005     ,  0.02736842,\n",
       "          0.02736842,  0.02736842,  0.04973684,  0.005     ,  0.02736842,\n",
       "          0.04973684,  0.04973684,  0.04973684,  0.02736842,  0.04973684,\n",
       "          0.005     ,  0.02736842,  0.07210526,  0.02736842,  0.04973684,\n",
       "          0.005     ,  0.02736842,  0.04973684,  0.04973684,  0.02736842],\n",
       "        [ 0.02861111,  0.01680556,  0.01680556,  0.05222222,  0.02861111,\n",
       "          0.01680556,  0.005     ,  0.01680556,  0.02861111,  0.04041667,\n",
       "          0.02861111,  0.04041667,  0.02861111,  0.01680556,  0.05222222,\n",
       "          0.02861111,  0.02861111,  0.05222222,  0.05222222,  0.05222222,\n",
       "          0.04041667,  0.04041667,  0.02861111,  0.02861111,  0.04041667,\n",
       "          0.05222222,  0.05222222,  0.02861111,  0.005     ,  0.05222222],\n",
       "        [ 0.03707547,  0.02103774,  0.03707547,  0.03707547,  0.05311321,\n",
       "          0.05311321,  0.02103774,  0.005     ,  0.005     ,  0.02103774,\n",
       "          0.05311321,  0.03707547,  0.03707547,  0.005     ,  0.03707547,\n",
       "          0.05311321,  0.05311321,  0.02103774,  0.03707547,  0.03707547,\n",
       "          0.03707547,  0.03707547,  0.05311321,  0.05311321,  0.005     ,\n",
       "          0.02103774,  0.02103774,  0.06915094,  0.03707547,  0.005     ],\n",
       "        [ 0.03286885,  0.03286885,  0.03286885,  0.0607377 ,  0.03286885,\n",
       "          0.03286885,  0.03286885,  0.03286885,  0.005     ,  0.04680328,\n",
       "          0.01893443,  0.0607377 ,  0.03286885,  0.01893443,  0.04680328,\n",
       "          0.01893443,  0.005     ,  0.0607377 ,  0.03286885,  0.04680328,\n",
       "          0.04680328,  0.04680328,  0.03286885,  0.005     ,  0.03286885,\n",
       "          0.04680328,  0.03286885,  0.03286885,  0.005     ,  0.03286885],\n",
       "        [ 0.055     ,  0.03      ,  0.005     ,  0.055     ,  0.055     ,\n",
       "          0.03      ,  0.005     ,  0.03      ,  0.03      ,  0.005     ,\n",
       "          0.03      ,  0.03      ,  0.03      ,  0.005     ,  0.03      ,\n",
       "          0.03      ,  0.03      ,  0.08      ,  0.03      ,  0.055     ,\n",
       "          0.055     ,  0.055     ,  0.055     ,  0.005     ,  0.03      ,\n",
       "          0.055     ,  0.08      ,  0.005     ,  0.005     ,  0.005     ],\n",
       "        [ 0.08595238,  0.0252381 ,  0.04547619,  0.0252381 ,  0.08595238,\n",
       "          0.06571429,  0.005     ,  0.0252381 ,  0.0252381 ,  0.0252381 ,\n",
       "          0.005     ,  0.04547619,  0.0252381 ,  0.04547619,  0.0252381 ,\n",
       "          0.08595238,  0.04547619,  0.0252381 ,  0.0252381 ,  0.04547619,\n",
       "          0.005     ,  0.005     ,  0.04547619,  0.005     ,  0.0252381 ,\n",
       "          0.0252381 ,  0.0252381 ,  0.04547619,  0.005     ,  0.0252381 ],\n",
       "        [ 0.04117021,  0.02308511,  0.005     ,  0.05925532,  0.04117021,\n",
       "          0.02308511,  0.02308511,  0.005     ,  0.005     ,  0.05925532,\n",
       "          0.005     ,  0.005     ,  0.02308511,  0.02308511,  0.07734043,\n",
       "          0.04117021,  0.02308511,  0.04117021,  0.02308511,  0.05925532,\n",
       "          0.05925532,  0.04117021,  0.04117021,  0.005     ,  0.04117021,\n",
       "          0.07734043,  0.04117021,  0.02308511,  0.04117021,  0.02308511],\n",
       "        [ 0.09      ,  0.02625   ,  0.005     ,  0.0475    ,  0.09      ,\n",
       "          0.0475    ,  0.005     ,  0.0475    ,  0.005     ,  0.02625   ,\n",
       "          0.0475    ,  0.02625   ,  0.005     ,  0.005     ,  0.02625   ,\n",
       "          0.0475    ,  0.0475    ,  0.0475    ,  0.005     ,  0.005     ,\n",
       "          0.005     ,  0.02625   ,  0.0475    ,  0.02625   ,  0.0475    ,\n",
       "          0.02625   ,  0.02625   ,  0.06875   ,  0.0475    ,  0.02625   ],\n",
       "        [ 0.07438776,  0.005     ,  0.07438776,  0.03969388,  0.05704082,\n",
       "          0.07438776,  0.02234694,  0.07438776,  0.02234694,  0.03969388,\n",
       "          0.02234694,  0.02234694,  0.05704082,  0.005     ,  0.03969388,\n",
       "          0.03969388,  0.05704082,  0.005     ,  0.005     ,  0.02234694,\n",
       "          0.005     ,  0.005     ,  0.05704082,  0.005     ,  0.02234694,\n",
       "          0.02234694,  0.03969388,  0.02234694,  0.02234694,  0.03969388],\n",
       "        [ 0.073     ,  0.005     ,  0.039     ,  0.039     ,  0.039     ,\n",
       "          0.039     ,  0.005     ,  0.005     ,  0.039     ,  0.073     ,\n",
       "          0.039     ,  0.005     ,  0.039     ,  0.005     ,  0.005     ,\n",
       "          0.005     ,  0.039     ,  0.073     ,  0.005     ,  0.107     ,\n",
       "          0.039     ,  0.039     ,  0.005     ,  0.005     ,  0.005     ,\n",
       "          0.073     ,  0.039     ,  0.005     ,  0.005     ,  0.107     ],\n",
       "        [ 0.09944444,  0.005     ,  0.03648148,  0.005     ,  0.06796296,\n",
       "          0.06796296,  0.005     ,  0.03648148,  0.03648148,  0.03648148,\n",
       "          0.005     ,  0.005     ,  0.03648148,  0.06796296,  0.06796296,\n",
       "          0.005     ,  0.06796296,  0.03648148,  0.03648148,  0.03648148,\n",
       "          0.03648148,  0.005     ,  0.03648148,  0.005     ,  0.03648148,\n",
       "          0.005     ,  0.03648148,  0.005     ,  0.005     ,  0.06796296],\n",
       "        [ 0.06719512,  0.005     ,  0.02573171,  0.02573171,  0.06719512,\n",
       "          0.04646341,  0.005     ,  0.005     ,  0.04646341,  0.02573171,\n",
       "          0.04646341,  0.02573171,  0.04646341,  0.02573171,  0.02573171,\n",
       "          0.04646341,  0.005     ,  0.005     ,  0.02573171,  0.04646341,\n",
       "          0.02573171,  0.02573171,  0.04646341,  0.06719512,  0.04646341,\n",
       "          0.02573171,  0.02573171,  0.04646341,  0.02573171,  0.04646341],\n",
       "        [ 0.07038462,  0.005     ,  0.005     ,  0.03769231,  0.03769231,\n",
       "          0.005     ,  0.005     ,  0.03769231,  0.005     ,  0.03769231,\n",
       "          0.03769231,  0.03769231,  0.005     ,  0.07038462,  0.03769231,\n",
       "          0.03769231,  0.07038462,  0.005     ,  0.03769231,  0.03769231,\n",
       "          0.03769231,  0.005     ,  0.005     ,  0.07038462,  0.03769231,\n",
       "          0.005     ,  0.03769231,  0.005     ,  0.03769231,  0.13576923],\n",
       "        [ 0.039     ,  0.005     ,  0.022     ,  0.056     ,  0.039     ,\n",
       "          0.022     ,  0.005     ,  0.005     ,  0.039     ,  0.056     ,\n",
       "          0.022     ,  0.039     ,  0.039     ,  0.039     ,  0.073     ,\n",
       "          0.022     ,  0.022     ,  0.056     ,  0.005     ,  0.022     ,\n",
       "          0.056     ,  0.039     ,  0.039     ,  0.039     ,  0.039     ,\n",
       "          0.039     ,  0.056     ,  0.039     ,  0.005     ,  0.022     ],\n",
       "        [ 0.02736842,  0.02736842,  0.04973684,  0.04973684,  0.04973684,\n",
       "          0.005     ,  0.005     ,  0.005     ,  0.02736842,  0.04973684,\n",
       "          0.005     ,  0.005     ,  0.04973684,  0.02736842,  0.02736842,\n",
       "          0.02736842,  0.005     ,  0.04973684,  0.04973684,  0.005     ,\n",
       "          0.07210526,  0.02736842,  0.04973684,  0.04973684,  0.07210526,\n",
       "          0.07210526,  0.04973684,  0.02736842,  0.005     ,  0.02736842],\n",
       "        [ 0.05094595,  0.005     ,  0.005     ,  0.07391892,  0.02797297,\n",
       "          0.05094595,  0.005     ,  0.005     ,  0.02797297,  0.05094595,\n",
       "          0.05094595,  0.02797297,  0.05094595,  0.05094595,  0.07391892,\n",
       "          0.02797297,  0.02797297,  0.07391892,  0.005     ,  0.02797297,\n",
       "          0.005     ,  0.02797297,  0.02797297,  0.02797297,  0.05094595,\n",
       "          0.02797297,  0.02797297,  0.005     ,  0.005     ,  0.07391892],\n",
       "        [ 0.02234694,  0.02234694,  0.02234694,  0.05704082,  0.03969388,\n",
       "          0.02234694,  0.005     ,  0.005     ,  0.005     ,  0.02234694,\n",
       "          0.03969388,  0.03969388,  0.02234694,  0.03969388,  0.05704082,\n",
       "          0.03969388,  0.02234694,  0.07438776,  0.03969388,  0.05704082,\n",
       "          0.05704082,  0.005     ,  0.03969388,  0.02234694,  0.02234694,\n",
       "          0.05704082,  0.05704082,  0.02234694,  0.005     ,  0.05704082],\n",
       "        [ 0.12224138,  0.005     ,  0.03431034,  0.005     ,  0.06362069,\n",
       "          0.03431034,  0.005     ,  0.03431034,  0.005     ,  0.005     ,\n",
       "          0.03431034,  0.005     ,  0.03431034,  0.03431034,  0.06362069,\n",
       "          0.09293103,  0.06362069,  0.06362069,  0.005     ,  0.005     ,\n",
       "          0.03431034,  0.005     ,  0.005     ,  0.03431034,  0.03431034,\n",
       "          0.005     ,  0.03431034,  0.03431034,  0.06362069,  0.03431034],\n",
       "        [ 0.05704082,  0.02234694,  0.03969388,  0.005     ,  0.05704082,\n",
       "          0.05704082,  0.005     ,  0.02234694,  0.03969388,  0.03969388,\n",
       "          0.07438776,  0.03969388,  0.05704082,  0.05704082,  0.03969388,\n",
       "          0.07438776,  0.005     ,  0.005     ,  0.005     ,  0.005     ,\n",
       "          0.02234694,  0.02234694,  0.03969388,  0.005     ,  0.03969388,\n",
       "          0.005     ,  0.03969388,  0.05704082,  0.03969388,  0.02234694],\n",
       "        [ 0.055     ,  0.005     ,  0.005     ,  0.03      ,  0.055     ,\n",
       "          0.005     ,  0.005     ,  0.055     ,  0.03      ,  0.08      ,\n",
       "          0.03      ,  0.055     ,  0.005     ,  0.03      ,  0.08      ,\n",
       "          0.03      ,  0.005     ,  0.08      ,  0.055     ,  0.03      ,\n",
       "          0.055     ,  0.055     ,  0.03      ,  0.005     ,  0.005     ,\n",
       "          0.055     ,  0.03      ,  0.005     ,  0.03      ,  0.005     ],\n",
       "        [ 0.04646341,  0.02573171,  0.02573171,  0.04646341,  0.02573171,\n",
       "          0.04646341,  0.005     ,  0.02573171,  0.005     ,  0.04646341,\n",
       "          0.02573171,  0.005     ,  0.02573171,  0.02573171,  0.04646341,\n",
       "          0.04646341,  0.02573171,  0.08792683,  0.02573171,  0.02573171,\n",
       "          0.04646341,  0.02573171,  0.04646341,  0.04646341,  0.04646341,\n",
       "          0.005     ,  0.08792683,  0.02573171,  0.005     ,  0.02573171],\n",
       "        [ 0.03      ,  0.03      ,  0.005     ,  0.03      ,  0.055     ,\n",
       "          0.03      ,  0.005     ,  0.03      ,  0.055     ,  0.005     ,\n",
       "          0.03      ,  0.055     ,  0.03      ,  0.005     ,  0.055     ,\n",
       "          0.03      ,  0.03      ,  0.08      ,  0.03      ,  0.055     ,\n",
       "          0.08      ,  0.03      ,  0.03      ,  0.005     ,  0.08      ,\n",
       "          0.005     ,  0.005     ,  0.055     ,  0.005     ,  0.03      ],\n",
       "        [ 0.06875   ,  0.005     ,  0.0475    ,  0.02625   ,  0.09      ,\n",
       "          0.02625   ,  0.005     ,  0.005     ,  0.005     ,  0.0475    ,\n",
       "          0.02625   ,  0.02625   ,  0.02625   ,  0.06875   ,  0.0475    ,\n",
       "          0.09      ,  0.0475    ,  0.0475    ,  0.005     ,  0.02625   ,\n",
       "          0.0475    ,  0.02625   ,  0.06875   ,  0.02625   ,  0.0475    ,\n",
       "          0.02625   ,  0.005     ,  0.005     ,  0.005     ,  0.005     ],\n",
       "        [ 0.06262712,  0.01940678,  0.03381356,  0.01940678,  0.06262712,\n",
       "          0.01940678,  0.03381356,  0.03381356,  0.03381356,  0.03381356,\n",
       "          0.06262712,  0.005     ,  0.03381356,  0.04822034,  0.03381356,\n",
       "          0.04822034,  0.03381356,  0.01940678,  0.03381356,  0.03381356,\n",
       "          0.03381356,  0.03381356,  0.03381356,  0.03381356,  0.01940678,\n",
       "          0.03381356,  0.03381356,  0.04822034,  0.005     ,  0.01940678],\n",
       "        [ 0.0475    ,  0.005     ,  0.005     ,  0.06875   ,  0.02625   ,\n",
       "          0.02625   ,  0.005     ,  0.0475    ,  0.02625   ,  0.09      ,\n",
       "          0.02625   ,  0.0475    ,  0.02625   ,  0.005     ,  0.02625   ,\n",
       "          0.005     ,  0.005     ,  0.005     ,  0.06875   ,  0.06875   ,\n",
       "          0.02625   ,  0.02625   ,  0.02625   ,  0.02625   ,  0.09      ,\n",
       "          0.0475    ,  0.0475    ,  0.0475    ,  0.02625   ,  0.005     ]])"
      ]
     },
     "execution_count": 31,
     "metadata": {},
     "output_type": "execute_result"
    }
   ],
   "source": [
    "nx.google_matrix(G)"
   ]
  }
 ],
 "metadata": {
  "kernelspec": {
   "display_name": "Python 3",
   "language": "python",
   "name": "python3"
  },
  "language_info": {
   "codemirror_mode": {
    "name": "ipython",
    "version": 3
   },
   "file_extension": ".py",
   "mimetype": "text/x-python",
   "name": "python",
   "nbconvert_exporter": "python",
   "pygments_lexer": "ipython3",
   "version": "3.5.2"
  }
 },
 "nbformat": 4,
 "nbformat_minor": 1
}
